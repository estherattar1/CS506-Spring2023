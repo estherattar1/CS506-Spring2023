{
 "cells": [
  {
   "attachments": {},
   "cell_type": "markdown",
   "metadata": {},
   "source": [
    "# Worksheet 22\n",
    "\n",
    "Name: Esther Attar\n",
    "UID: U58153143\n",
    "\n",
    "### Topics\n",
    "\n",
    "- Networks & Graphs\n",
    "\n",
    "## Networks & Graphs\n",
    "\n",
    "a) For each of the following, give an example of a question about a graph that is faster to answer when the graph is stored as:\n",
    "\n",
    "- an adjacency matrix\n",
    "- an adjacency list"
   ]
  },
  {
   "attachments": {},
   "cell_type": "markdown",
   "metadata": {},
   "source": [
    "- adjacency matrix:\n",
    "   1. is there a direct edge between node A and node B\n",
    "\n",
    "- Adjacency list:\n",
    "  1. which nodes are directly  connected to node F"
   ]
  },
  {
   "cell_type": "markdown",
   "metadata": {},
   "source": [
    "b) Load the following graph using the networkx library\n",
    "\n",
    "```\n",
    "A : {B, C}\n",
    "B : {A, D, E}\n",
    "C : {A, F}\n",
    "E : {B, G, H}\n",
    "```\n"
   ]
  },
  {
   "cell_type": "code",
   "execution_count": 16,
   "metadata": {},
   "outputs": [
    {
     "name": "stdout",
     "output_type": "stream",
     "text": [
      "['A', 'B', 'C', 'D', 'E', 'F', 'G', 'H']\n",
      "[('A', 'B'), ('A', 'C'), ('B', 'D'), ('B', 'E'), ('C', 'F'), ('E', 'G'), ('E', 'H')]\n"
     ]
    }
   ],
   "source": [
    "import networkx as nx\n",
    "\n",
    "G = nx.Graph()\n",
    "G.add_node('A')\n",
    "G.add_nodes_from(['A','B', 'C','D','E','F','G','H'])\n",
    "G.add_edge('A', 'B')\n",
    "edges = [('A', 'B'), ('A', 'C'), ('B', 'D'), ('B', 'E'), ('C', 'F'), ('E', 'G'), ('E', 'H')]\n",
    "G.add_edges_from(edges)\n",
    "\n",
    "\n",
    "print(G.nodes())\n",
    "print(G.edges())"
   ]
  },
  {
   "cell_type": "markdown",
   "metadata": {},
   "source": [
    "c) Print the following about the graph:\n",
    "\n",
    "- the diameter\n",
    "- the neighbors of node `A`\n",
    "- the density\n",
    "- degree centrality\n",
    "- closeness centrality\n",
    "- betweenness centrality"
   ]
  },
  {
   "cell_type": "code",
   "execution_count": 17,
   "metadata": {},
   "outputs": [
    {
     "name": "stdout",
     "output_type": "stream",
     "text": [
      "Diameter  =  5\n",
      "Neighbors =  ['B', 'C']\n",
      "Density =  0.25\n",
      "Degree Centrality  =   {'A': 0.2857142857142857, 'B': 0.42857142857142855, 'C': 0.2857142857142857, 'D': 0.14285714285714285, 'E': 0.42857142857142855, 'F': 0.14285714285714285, 'G': 0.14285714285714285, 'H': 0.14285714285714285}\n",
      "Closeness Centrality  =   {'A': 0.5, 'B': 0.5833333333333334, 'C': 0.3888888888888889, 'D': 0.3888888888888889, 'E': 0.5, 'F': 0.2916666666666667, 'G': 0.35, 'H': 0.35}\n",
      "Betweenness Centrality  =   {'A': 0.47619047619047616, 'B': 0.7142857142857142, 'C': 0.2857142857142857, 'D': 0.0, 'E': 0.5238095238095237, 'F': 0.0, 'G': 0.0, 'H': 0.0}\n"
     ]
    }
   ],
   "source": [
    "diameter = nx.diameter(G)\n",
    "print('Diameter  = ', diameter)\n",
    "\n",
    "neighbors = list(G.neighbors('A'))\n",
    "print('Neighbors = ', neighbors)\n",
    "\n",
    "density = nx.density(G)\n",
    "print('Density = ', density)\n",
    "\n",
    "degree_centrality = nx.degree_centrality(G)\n",
    "print('Degree Centrality  =  ', degree_centrality)\n",
    "\n",
    "closeness_centrality = nx.closeness_centrality(G)\n",
    "print('Closeness Centrality  =  ', closeness_centrality)\n",
    "\n",
    "betweenness_centrality = nx.betweenness_centrality(G)\n",
    "print('Betweenness Centrality  =  ', betweenness_centrality)"
   ]
  },
  {
   "cell_type": "markdown",
   "metadata": {},
   "source": [
    "d) What is the Kendall-Tau distance between the following rankings:\n",
    "\n",
    "\n",
    "|   | R_1 | R_2 |\n",
    "|---|-----|-----|\n",
    "| A | 1   |  5  |\n",
    "| B | 2   |  6  |\n",
    "| C | 3   |  7  |\n",
    "| D | 4   |  4  |\n",
    "| E | 5   |  1  |\n",
    "| F | 6   |  2  |\n",
    "| G | 7   |  3  |"
   ]
  },
  {
   "attachments": {},
   "cell_type": "markdown",
   "metadata": {},
   "source": [
    "the kendall-tau distance between the following rankings is 10 because  there are  10 pairwise disagreements"
   ]
  }
 ],
 "metadata": {
  "kernelspec": {
   "display_name": "Python 3",
   "language": "python",
   "name": "python3"
  },
  "language_info": {
   "codemirror_mode": {
    "name": "ipython",
    "version": 3
   },
   "file_extension": ".py",
   "mimetype": "text/x-python",
   "name": "python",
   "nbconvert_exporter": "python",
   "pygments_lexer": "ipython3",
   "version": "3.9.13"
  },
  "orig_nbformat": 4,
  "vscode": {
   "interpreter": {
    "hash": "e7370f93d1d0cde622a1f8e1c04877d8463912d04d973331ad4851f04de6915a"
   }
  }
 },
 "nbformat": 4,
 "nbformat_minor": 2
}
